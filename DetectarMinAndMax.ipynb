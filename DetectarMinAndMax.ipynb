{
 "cells": [
  {
   "attachments": {},
   "cell_type": "markdown",
   "metadata": {},
   "source": [
    "# Lecturas de Tablas SQL SERVER"
   ]
  },
  {
   "attachments": {},
   "cell_type": "markdown",
   "metadata": {},
   "source": [
    "## Importar librerías"
   ]
  },
  {
   "cell_type": "code",
   "execution_count": 1,
   "metadata": {},
   "outputs": [],
   "source": [
    "import pandas as pd \n",
    "pd.options.display.max_columns = None\n",
    "import os \n",
    "import pyodbc\n",
    "from sqlalchemy.engine import URL\n",
    "from sqlalchemy import create_engine"
   ]
  },
  {
   "attachments": {},
   "cell_type": "markdown",
   "metadata": {},
   "source": [
    "## Datos Minimos para la conexión"
   ]
  },
  {
   "cell_type": "code",
   "execution_count": 2,
   "metadata": {},
   "outputs": [],
   "source": [
    "server = r'Server'\n",
    "database = 'Database' \n",
    "username = 'User' \n",
    "password = 'Password.1234' "
   ]
  },
  {
   "attachments": {},
   "cell_type": "markdown",
   "metadata": {},
   "source": [
    "### Testing"
   ]
  },
  {
   "cell_type": "code",
   "execution_count": 3,
   "metadata": {},
   "outputs": [],
   "source": [
    "try:\n",
    "    cnxn = pyodbc.connect(\n",
    "        'DRIVER={ODBC Driver 18 for SQL Server};'\n",
    "        'SERVER='+server+';'\n",
    "        'DATABASE='+database+';'\n",
    "        'ENCRYPT=yes;UID='+username+';'\n",
    "        'PWD='+ password\n",
    "        )\n",
    "    cursor = cnxn.cursor()\n",
    "    cursor.close()\n",
    "except:\n",
    "    print(\"Error en conexión\")"
   ]
  },
  {
   "attachments": {},
   "cell_type": "markdown",
   "metadata": {},
   "source": [
    "## Función para lectura de Tablas"
   ]
  },
  {
   "cell_type": "code",
   "execution_count": 4,
   "metadata": {},
   "outputs": [],
   "source": [
    "def tablesMinMax (tabla,esquema):\n",
    "    url = URL.create(drivername='mssql+pyodbc',\n",
    "        username= username,\n",
    "        password= password,\n",
    "        host= server,\n",
    "        database= database,\n",
    "        query={'driver': 'ODBC Driver 18 for SQL Server'})\n",
    "    engine = create_engine(url)\n",
    "\n",
    "    df = pd.read_sql_table(tabla, engine, schema=esquema)\n",
    "    return df"
   ]
  },
  {
   "attachments": {},
   "cell_type": "markdown",
   "metadata": {},
   "source": [
    "### Buscar minimos y maximos"
   ]
  },
  {
   "cell_type": "code",
   "execution_count": null,
   "metadata": {},
   "outputs": [],
   "source": [
    "def tablesMinMax (tabla,esquema):\n",
    "    url = URL.create(drivername='mssql+pyodbc',\n",
    "        username= username,\n",
    "        password= password,\n",
    "        host= server,\n",
    "        database= database,\n",
    "        query={'driver': 'ODBC Driver 18 for SQL Server'})\n",
    "    engine = create_engine(url)\n",
    "\n",
    "    df = pd.read_sql_table(tabla, engine, schema=esquema)\n",
    "    for column in df.columns:\n",
    "        print (f\"{column}: {df[column].min()} - {df[column].max()}\")"
   ]
  }
 ],
 "metadata": {
  "kernelspec": {
   "display_name": "Python 3",
   "language": "python",
   "name": "python3"
  },
  "language_info": {
   "codemirror_mode": {
    "name": "ipython",
    "version": 3
   },
   "file_extension": ".py",
   "mimetype": "text/x-python",
   "name": "python",
   "nbconvert_exporter": "python",
   "pygments_lexer": "ipython3",
   "version": "3.11.0 (main, Oct 24 2022, 18:26:48) [MSC v.1933 64 bit (AMD64)]"
  },
  "orig_nbformat": 4,
  "vscode": {
   "interpreter": {
    "hash": "51d2004ef466e78e645e7e2ba8f0d40c9741a65f03ae3d118a7e2d6ea21c00e2"
   }
  }
 },
 "nbformat": 4,
 "nbformat_minor": 2
}
