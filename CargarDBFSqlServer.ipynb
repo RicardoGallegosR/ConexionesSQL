{
 "cells": [
  {
   "attachments": {},
   "cell_type": "markdown",
   "metadata": {},
   "source": [
    "# Lectura de Archivos"
   ]
  },
  {
   "attachments": {},
   "cell_type": "markdown",
   "metadata": {},
   "source": [
    "Librerias"
   ]
  },
  {
   "cell_type": "code",
   "execution_count": 1,
   "metadata": {},
   "outputs": [
    {
     "name": "stdout",
     "output_type": "stream",
     "text": [
      "PyTables is not installed. No support for HDF output.\n"
     ]
    }
   ],
   "source": [
    "import pandas as pd\n",
    "pd.options.display.max_columns = None\n",
    "# pd.options.display.max_rows = None\n",
    "import os\n",
    "from simpledbf import Dbf5\n",
    "import pyodbc"
   ]
  },
  {
   "attachments": {},
   "cell_type": "markdown",
   "metadata": {},
   "source": [
    "Directorio de archivos, los almacenamos en una lista para iterar con el codigo"
   ]
  },
  {
   "cell_type": "code",
   "execution_count": 2,
   "metadata": {},
   "outputs": [
    {
     "data": {
      "text/plain": [
       "['marca.dbf', 'm_diesel.dbf', 'subdiesl.dbf', 'submarca.dbf', 't_maestr.dbf']"
      ]
     },
     "execution_count": 2,
     "metadata": {},
     "output_type": "execute_result"
    }
   ],
   "source": [
    "Path_ = r'path'\n",
    "contenido = os.listdir(Path_)\n",
    "\n",
    "file = []\n",
    "for fichero in contenido:\n",
    "    if os.path.isfile(os.path.join(Path_, fichero)) and fichero.endswith('.dbf'):\n",
    "        file.append(fichero)\n",
    "file"
   ]
  },
  {
   "attachments": {},
   "cell_type": "markdown",
   "metadata": {},
   "source": [
    "# Conexión a la BDD\n",
    "\n",
    "Crear conexión a la BDD con Windows Authentication \n",
    "\n",
    "**Nota: idealmente se debe de agregra un try-excet**"
   ]
  },
  {
   "cell_type": "code",
   "execution_count": 3,
   "metadata": {},
   "outputs": [],
   "source": [
    "server = 'Server'\n",
    "conexion = pyodbc.connect('DRIVER={ODBC Driver 18 for SQL Server};SERVER='+server,autocommit=True)"
   ]
  },
  {
   "attachments": {},
   "cell_type": "markdown",
   "metadata": {},
   "source": [
    "Crear conexión con User and Password"
   ]
  },
  {
   "cell_type": "code",
   "execution_count": 4,
   "metadata": {},
   "outputs": [],
   "source": [
    "server = 'Server'\n",
    "database = 'DataBase' \n",
    "username = 'User' \n",
    "password = 'Passwd' "
   ]
  },
  {
   "attachments": {},
   "cell_type": "markdown",
   "metadata": {},
   "source": [
    "Corroboramos la conexión"
   ]
  },
  {
   "cell_type": "code",
   "execution_count": 5,
   "metadata": {},
   "outputs": [],
   "source": [
    "try:\n",
    "    cnxn = pyodbc.connect(\n",
    "        'DRIVER={ODBC Driver 18 for SQL Server};'\n",
    "        'SERVER='+server+';'\n",
    "        'DATABASE='+database+';'\n",
    "        'ENCRYPT=yes;UID='+username+';'\n",
    "        'PWD='+ password\n",
    "        )\n",
    "    cursor = cnxn.cursor()\n",
    "    cursor.close()\n",
    "except:\n",
    "    print(\"Error en conexión\")"
   ]
  },
  {
   "attachments": {},
   "cell_type": "markdown",
   "metadata": {},
   "source": [
    "# Tabla a insertar el DBF"
   ]
  },
  {
   "cell_type": "code",
   "execution_count": 10,
   "metadata": {},
   "outputs": [
    {
     "data": {
      "text/html": [
       "<div>\n",
       "<style scoped>\n",
       "    .dataframe tbody tr th:only-of-type {\n",
       "        vertical-align: middle;\n",
       "    }\n",
       "\n",
       "    .dataframe tbody tr th {\n",
       "        vertical-align: top;\n",
       "    }\n",
       "\n",
       "    .dataframe thead th {\n",
       "        text-align: right;\n",
       "    }\n",
       "</style>\n",
       "<table border=\"1\" class=\"dataframe\">\n",
       "  <thead>\n",
       "    <tr style=\"text-align: right;\">\n",
       "      <th></th>\n",
       "      <th>MARCA</th>\n",
       "      <th>PANTALLA</th>\n",
       "      <th>BASEDATOS</th>\n",
       "      <th>POTMAX_RPM</th>\n",
       "      <th>RAL_FAB</th>\n",
       "      <th>GOB_FAB</th>\n",
       "      <th>VALIDA</th>\n",
       "    </tr>\n",
       "  </thead>\n",
       "  <tbody>\n",
       "    <tr>\n",
       "      <th>0</th>\n",
       "      <td>100</td>\n",
       "      <td>3116 (170 H.P./2600rpm)</td>\n",
       "      <td>101</td>\n",
       "      <td>2600</td>\n",
       "      <td>0</td>\n",
       "      <td>0</td>\n",
       "      <td></td>\n",
       "    </tr>\n",
       "  </tbody>\n",
       "</table>\n",
       "</div>"
      ],
      "text/plain": [
       "   MARCA                 PANTALLA  BASEDATOS  POTMAX_RPM  RAL_FAB  GOB_FAB  \\\n",
       "0    100  3116 (170 H.P./2600rpm)        101        2600        0        0   \n",
       "\n",
       "  VALIDA  \n",
       "0         "
      ]
     },
     "execution_count": 10,
     "metadata": {},
     "output_type": "execute_result"
    }
   ],
   "source": [
    "i = 2\n",
    "df = Dbf5(Path_+file[i],codec='iso-8859-1').to_dataframe().fillna('')\n",
    "df.head(1)"
   ]
  },
  {
   "attachments": {},
   "cell_type": "markdown",
   "metadata": {},
   "source": [
    "Dado que son varias columnas se aplica la **ley del minimo esfuerzo**\n",
    "\n",
    "Se utilizará una lista de lista donde obtenemos los valores del dataframe fila x fila \n",
    "para posteriormente iterar sobre ella "
   ]
  },
  {
   "attachments": {},
   "cell_type": "markdown",
   "metadata": {},
   "source": [
    "__*Con esto esta bien*__"
   ]
  },
  {
   "cell_type": "code",
   "execution_count": 11,
   "metadata": {},
   "outputs": [],
   "source": [
    "a,b = df.shape\n",
    "lista = []\n",
    "for i in range(a):\n",
    "    lista_ = [] \n",
    "    for j in range(b):\n",
    "        lista_.append(df.iloc[i][j])\n",
    "    lista.append(lista_) "
   ]
  },
  {
   "attachments": {},
   "cell_type": "markdown",
   "metadata": {},
   "source": [
    "**_Pero esto esta mejor_**"
   ]
  },
  {
   "cell_type": "code",
   "execution_count": 12,
   "metadata": {},
   "outputs": [
    {
     "name": "stdout",
     "output_type": "stream",
     "text": [
      "?,?,?,?,?,?,?,\n"
     ]
    },
    {
     "data": {
      "text/plain": [
       "[('100', '3116 (170 H.P./2600rpm)', '101', '2600', '0', '0', ''),\n",
       " ('100', '3116 (185 H.P./2600rpm)', '102', '2600', '0', '0', '')]"
      ]
     },
     "execution_count": 12,
     "metadata": {},
     "output_type": "execute_result"
    }
   ],
   "source": [
    "a,b = df.shape\n",
    "df['VALIDA'] = df['VALIDA'].fillna('')\n",
    "print('?,'*b)\n",
    "lista = [tuple([str(df.iloc[i][j]) for j in range(b)]) for i in range(a)]\n",
    "lista[:2]"
   ]
  },
  {
   "cell_type": "code",
   "execution_count": 14,
   "metadata": {},
   "outputs": [],
   "source": [
    "sql = \"EXEC [SCHEMA].[STORE_FOR_INSERT] ?,?,?,?,?,?,?\"\n",
    "for i in lista:\n",
    "    try:\n",
    "        cursor = cnxn.cursor()\n",
    "        cursor.execute(sql,i)\n",
    "        cnxn.commit()\n",
    "        cursor.close()\n",
    "    except:\n",
    "        print(\"Error\")\n",
    "        cursor.close()"
   ]
  }
 ],
 "metadata": {
  "kernelspec": {
   "display_name": "Python 3",
   "language": "python",
   "name": "python3"
  },
  "language_info": {
   "codemirror_mode": {
    "name": "ipython",
    "version": 3
   },
   "file_extension": ".py",
   "mimetype": "text/x-python",
   "name": "python",
   "nbconvert_exporter": "python",
   "pygments_lexer": "ipython3",
   "version": "3.11.0 (main, Oct 24 2022, 18:26:48) [MSC v.1933 64 bit (AMD64)]"
  },
  "orig_nbformat": 4,
  "vscode": {
   "interpreter": {
    "hash": "51d2004ef466e78e645e7e2ba8f0d40c9741a65f03ae3d118a7e2d6ea21c00e2"
   }
  }
 },
 "nbformat": 4,
 "nbformat_minor": 2
}
