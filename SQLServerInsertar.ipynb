{
 "cells": [
  {
   "cell_type": "markdown",
   "metadata": {},
   "source": [
    "# Librerias"
   ]
  },
  {
   "cell_type": "code",
   "execution_count": 1,
   "metadata": {},
   "outputs": [],
   "source": [
    "import pandas as pd\n",
    "# Conector a la BDD\n",
    "import pyodbc"
   ]
  },
  {
   "cell_type": "markdown",
   "metadata": {},
   "source": [
    "# Lectura de archivos"
   ]
  },
  {
   "cell_type": "code",
   "execution_count": 2,
   "metadata": {},
   "outputs": [],
   "source": [
    "df = pd.read_excel (\"C:\\\\Users\\\\rgallegos\\\\Desktop\\\\Data\\\\Excel\\\\CatalogosMarcas.xlsx\")"
   ]
  },
  {
   "cell_type": "code",
   "execution_count": 3,
   "metadata": {},
   "outputs": [
    {
     "data": {
      "text/html": [
       "<div>\n",
       "<style scoped>\n",
       "    .dataframe tbody tr th:only-of-type {\n",
       "        vertical-align: middle;\n",
       "    }\n",
       "\n",
       "    .dataframe tbody tr th {\n",
       "        vertical-align: top;\n",
       "    }\n",
       "\n",
       "    .dataframe thead th {\n",
       "        text-align: right;\n",
       "    }\n",
       "</style>\n",
       "<table border=\"1\" class=\"dataframe\">\n",
       "  <thead>\n",
       "    <tr style=\"text-align: right;\">\n",
       "      <th></th>\n",
       "      <th>MarcaId</th>\n",
       "      <th>Marca</th>\n",
       "      <th>TipoMarcaId</th>\n",
       "      <th>Activo</th>\n",
       "      <th>rowguid</th>\n",
       "    </tr>\n",
       "  </thead>\n",
       "  <tbody>\n",
       "    <tr>\n",
       "      <th>0</th>\n",
       "      <td>0</td>\n",
       "      <td>DESCONOCIDO</td>\n",
       "      <td>0</td>\n",
       "      <td>1</td>\n",
       "      <td>D9F53819-B859-E811-BB5C-6CAE8B3EB255</td>\n",
       "    </tr>\n",
       "    <tr>\n",
       "      <th>1</th>\n",
       "      <td>1</td>\n",
       "      <td>ACURA</td>\n",
       "      <td>1</td>\n",
       "      <td>1</td>\n",
       "      <td>AFF53819-B859-E811-BB5C-6CAE8B3EB255</td>\n",
       "    </tr>\n",
       "    <tr>\n",
       "      <th>2</th>\n",
       "      <td>2</td>\n",
       "      <td>ALFA</td>\n",
       "      <td>1</td>\n",
       "      <td>1</td>\n",
       "      <td>B0F53819-B859-E811-BB5C-6CAE8B3EB255</td>\n",
       "    </tr>\n",
       "  </tbody>\n",
       "</table>\n",
       "</div>"
      ],
      "text/plain": [
       "   MarcaId        Marca  TipoMarcaId  Activo  \\\n",
       "0        0  DESCONOCIDO            0       1   \n",
       "1        1        ACURA            1       1   \n",
       "2        2         ALFA            1       1   \n",
       "\n",
       "                                rowguid  \n",
       "0  D9F53819-B859-E811-BB5C-6CAE8B3EB255  \n",
       "1  AFF53819-B859-E811-BB5C-6CAE8B3EB255  \n",
       "2  B0F53819-B859-E811-BB5C-6CAE8B3EB255  "
      ]
     },
     "execution_count": 3,
     "metadata": {},
     "output_type": "execute_result"
    }
   ],
   "source": [
    "df.head(3)"
   ]
  },
  {
   "cell_type": "markdown",
   "metadata": {},
   "source": [
    "# Conexion a la base de datos"
   ]
  },
  {
   "cell_type": "markdown",
   "metadata": {},
   "source": [
    "Comprobar que se puedan realizar conexiones remotas en caso contrario esto te puede romper las pelotas\n",
    "\n",
    "*__NOTA:__*\n",
    "\n",
    "\n",
    "__Si se relentiza el motor de la base de datos la forma más rápida de solucionarlo es deteniendo el kernel de jupyter__"
   ]
  },
  {
   "cell_type": "code",
   "execution_count": 2,
   "metadata": {},
   "outputs": [],
   "source": [
    "server = '(LocalDB)\\\\ricardogr'\n",
    "conexion = pyodbc.connect('DRIVER={ODBC Driver 18 for SQL Server};SERVER='+server,autocommit=True)"
   ]
  },
  {
   "cell_type": "markdown",
   "metadata": {},
   "source": [
    "En caso de utilizar otro driver"
   ]
  },
  {
   "cell_type": "code",
   "execution_count": 3,
   "metadata": {},
   "outputs": [
    {
     "data": {
      "text/plain": [
       "['SQL Server',\n",
       " 'SQL Server Native Client 11.0',\n",
       " 'ODBC Driver 17 for SQL Server',\n",
       " 'ODBC Driver 18 for SQL Server']"
      ]
     },
     "execution_count": 3,
     "metadata": {},
     "output_type": "execute_result"
    }
   ],
   "source": [
    "pyodbc.drivers()"
   ]
  },
  {
   "cell_type": "markdown",
   "metadata": {},
   "source": [
    "Identificacion por usuario y base de datos"
   ]
  },
  {
   "cell_type": "code",
   "execution_count": 4,
   "metadata": {},
   "outputs": [],
   "source": [
    "server = '(LocalDB)\\\\ricardogr'\n",
    "database = 'Autorregulacion' \n",
    "username = 'Ricardo' \n",
    "password = 'Chojin.12' "
   ]
  },
  {
   "cell_type": "markdown",
   "metadata": {},
   "source": [
    "Conexión a BDD"
   ]
  },
  {
   "cell_type": "code",
   "execution_count": 5,
   "metadata": {},
   "outputs": [],
   "source": [
    "cnxn = pyodbc.connect(\n",
    "    'DRIVER={ODBC Driver 18 for SQL Server};'\n",
    "    'SERVER='+server+';'\n",
    "    'DATABASE='+database+';'\n",
    "    'ENCRYPT=yes;UID='+username+';'\n",
    "    'PWD='+ password\n",
    "    )\n",
    "cursor = cnxn.cursor()"
   ]
  },
  {
   "cell_type": "code",
   "execution_count": 6,
   "metadata": {},
   "outputs": [
    {
     "name": "stdout",
     "output_type": "stream",
     "text": [
      "Microsoft SQL Server 2012 - 11.0.5058.0 (X64) \n",
      "\tMay 14 2014 18:34:29 \n",
      "\tCopyright (c) Microsoft Corporation\n",
      "\tExpress Edition (64-bit) on Windows NT 6.3 <X64> (Build 9600: )\n",
      "\n"
     ]
    }
   ],
   "source": [
    "cursor.execute(\"SELECT @@version;\") \n",
    "row = cursor.fetchone() \n",
    "while row: \n",
    "    print(row[0])\n",
    "    row = cursor.fetchone()"
   ]
  },
  {
   "cell_type": "markdown",
   "metadata": {},
   "source": [
    "## Ejecutar un procedimiento almacenado"
   ]
  },
  {
   "cell_type": "code",
   "execution_count": null,
   "metadata": {},
   "outputs": [],
   "source": [
    "cursor.execute(\n",
    "    \"\"\"\n",
    "    EXEC [Catalogos].[InsetarCatalogosMarcasTableTryCatch] ?,?,?,?,?\n",
    "    \"\"\",\n",
    "    1, 'DESCONOCIDO', 0, 1, 'D9F53819-B859-E811-BB5C-6CAE8B3EB255'\n",
    ").rowcount\n",
    "cursor.close()"
   ]
  },
  {
   "cell_type": "markdown",
   "metadata": {},
   "source": [
    "# Insert Dataframe into SQL Server"
   ]
  },
  {
   "cell_type": "markdown",
   "metadata": {},
   "source": [
    "## Catalogos Marcas"
   ]
  },
  {
   "cell_type": "code",
   "execution_count": null,
   "metadata": {},
   "outputs": [],
   "source": [
    "df = pd.read_excel (\"C:\\\\Users\\\\rgallegos\\\\Desktop\\\\Data\\\\Excel\\\\CatalogosMarcas.xlsx\")\n",
    "cursor = cnxn.cursor()\n",
    "try:\n",
    "     for index, row in df.iterrows():\n",
    "          cursor.execute(\n",
    "               \"EXEC [Catalogos].[InsetarCatalogosMarcasTableTryCatch] ?,?,?,?,?\", \n",
    "               row.MarcaId,\n",
    "               row.Marca,\n",
    "               row.TipoMarcaId,\n",
    "               row.Activo,\n",
    "               row.rowguid,\n",
    "          )\n",
    "     cnxn.commit()\n",
    "     cursor.close()\n",
    "except:\n",
    "     print(\"Error\")\n",
    "     cursor.close()\n",
    "\n"
   ]
  },
  {
   "cell_type": "markdown",
   "metadata": {},
   "source": [
    "## Catalogos SubMarcas"
   ]
  },
  {
   "cell_type": "code",
   "execution_count": null,
   "metadata": {},
   "outputs": [],
   "source": [
    "df = pd.read_excel (\"C:\\\\Users\\\\rgallegos\\\\Desktop\\\\Data\\\\Excel\\\\Catalogos.Submarcas.xlsx\")"
   ]
  },
  {
   "cell_type": "code",
   "execution_count": null,
   "metadata": {},
   "outputs": [],
   "source": [
    "cursor = cnxn.cursor()\n",
    "try:\n",
    "     for index, row in df.iterrows():\n",
    "          cursor.execute(\n",
    "               \"EXEC [Catalogos].[InsetarCatalogosSubMarcasTableTryCatch] ?,?,?,?,?\", \n",
    "               row.SubmarcaId,\n",
    "               row.MarcaId,\n",
    "               row.Submarca,\n",
    "               row.Activo,\n",
    "               row.rowguid,\n",
    "          )\n",
    "     cnxn.commit()\n",
    "     cursor.close()\n",
    "except:\n",
    "     print(\"Error\")\n",
    "     cursor.close()"
   ]
  },
  {
   "cell_type": "markdown",
   "metadata": {},
   "source": [
    "## Vehiculos VMI"
   ]
  },
  {
   "cell_type": "code",
   "execution_count": 7,
   "metadata": {},
   "outputs": [],
   "source": [
    "df = pd.read_excel (\"C:\\\\Users\\\\rgallegos\\\\Desktop\\\\Data\\\\Excel\\\\VehiculosWmi.xlsx\")"
   ]
  },
  {
   "cell_type": "code",
   "execution_count": 8,
   "metadata": {},
   "outputs": [
    {
     "name": "stdout",
     "output_type": "stream",
     "text": [
      "Error\n",
      "Error\n",
      "Error\n",
      "Error\n",
      "Error\n",
      "Error\n",
      "Error\n",
      "Error\n",
      "Error\n",
      "Error\n",
      "Error\n",
      "Error\n",
      "Error\n"
     ]
    }
   ],
   "source": [
    "for index, row in df.iterrows():\n",
    "     cursor = cnxn.cursor()\n",
    "     try:\n",
    "          cursor.execute(\n",
    "               \"EXEC [Vehiculos].[InsetarVehiculosWmiTableTryCatch] ?,?,?,?,?,?,?\", \n",
    "               row.WmiId,\n",
    "               row.Wmi,\n",
    "               row.WmiExt,\n",
    "               row.Fabricante,\n",
    "               row.MarcaId,\n",
    "               row.Activo,\n",
    "               row.rowguid,\n",
    "          )\n",
    "          cnxn.commit()\n",
    "     except:\n",
    "          print(\"Error\")\n",
    "     cursor.close()"
   ]
  },
  {
   "cell_type": "markdown",
   "metadata": {},
   "source": [
    "## Vehiculos WMI SubMarcas"
   ]
  },
  {
   "cell_type": "code",
   "execution_count": null,
   "metadata": {},
   "outputs": [],
   "source": [
    "df = pd.read_excel (\"C:\\\\Users\\\\rgallegos\\\\Desktop\\\\Data\\\\Excel\\\\VehiculosWmiSubMarcas.xlsx\")"
   ]
  },
  {
   "cell_type": "code",
   "execution_count": null,
   "metadata": {},
   "outputs": [],
   "source": [
    "cursor = cnxn.cursor()\n",
    "try:\n",
    "     for index, row in df.iterrows():\n",
    "          cursor.execute(\n",
    "               \"EXEC [Vehiculos].[InsetarVehiculosWmiSubMarcasTableTryCatch] ?,?,?,?,?,?,?,?,?,?,?,?,?,?,?,?,?,?,?,?,?,?,?,?,?,?,?,?,?,?,?\", \n",
    "               row.WmiSubmarcaId,\n",
    "               row.WmiId,\n",
    "               row.VinPos4,\n",
    "               row.VinPos5,\n",
    "               row.VinPos6,\n",
    "               row.VinPos7,\n",
    "               row.VinPos8,\n",
    "               row.VinPos9,\n",
    "               row.VinPos10,\n",
    "               row.VinPos11,\n",
    "               row.VinPos12,\n",
    "               row.VinPos13,\n",
    "               row.VinPos14,\n",
    "               row.VinPos15,\n",
    "               row.VinPos16,\n",
    "               row.VinPos17,\n",
    "               row.SubMarcaId,\n",
    "               row.Modelo,\n",
    "               row.ModeloVehicularId,\n",
    "               row.VDS,\n",
    "               row.ObdPrueba,\n",
    "               row.CheckSdciic,\n",
    "               row.CheckSecc,\n",
    "               row.CheckSc,\n",
    "               row.CheckSso,\n",
    "               row.CheckSci,\n",
    "               row.CodigosObdError,\n",
    "               row.FMPrueba,\n",
    "               row.Activo,\n",
    "               row.VinFromObd,\n",
    "               row.TipoObdId\n",
    "          )\n",
    "     cnxn.commit()\n",
    "     cursor.close()\n",
    "except:\n",
    "     print(\"Error\")\n",
    "     cursor.close()"
   ]
  }
 ],
 "metadata": {
  "kernelspec": {
   "display_name": "Python 3.11.0 64-bit",
   "language": "python",
   "name": "python3"
  },
  "language_info": {
   "codemirror_mode": {
    "name": "ipython",
    "version": 3
   },
   "file_extension": ".py",
   "mimetype": "text/x-python",
   "name": "python",
   "nbconvert_exporter": "python",
   "pygments_lexer": "ipython3",
   "version": "3.11.0 (main, Oct 24 2022, 18:26:48) [MSC v.1933 64 bit (AMD64)]"
  },
  "orig_nbformat": 4,
  "vscode": {
   "interpreter": {
    "hash": "51d2004ef466e78e645e7e2ba8f0d40c9741a65f03ae3d118a7e2d6ea21c00e2"
   }
  }
 },
 "nbformat": 4,
 "nbformat_minor": 2
}
