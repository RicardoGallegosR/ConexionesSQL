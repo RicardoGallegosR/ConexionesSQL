{
 "cells": [
  {
   "attachments": {},
   "cell_type": "markdown",
   "metadata": {},
   "source": [
    "# Generador de actualizaciones sql en python"
   ]
  },
  {
   "cell_type": "code",
   "execution_count": 3,
   "metadata": {},
   "outputs": [],
   "source": [
    "from tqdm import tqdm\n",
    "import pandas as pd\n",
    "pd.options.display.max_columns = None\n",
    "from datetime import datetime, timedelta"
   ]
  },
  {
   "attachments": {},
   "cell_type": "markdown",
   "metadata": {},
   "source": [
    "Lectura de datos"
   ]
  },
  {
   "cell_type": "code",
   "execution_count": 5,
   "metadata": {},
   "outputs": [],
   "source": [
    "df = pd.read_excel(r'Updates\\Actualizaciones.xlsx')"
   ]
  },
  {
   "attachments": {},
   "cell_type": "markdown",
   "metadata": {},
   "source": [
    "## Cotrol de datos"
   ]
  },
  {
   "cell_type": "code",
   "execution_count": 6,
   "metadata": {},
   "outputs": [
    {
     "data": {
      "text/html": [
       "<div>\n",
       "<style scoped>\n",
       "    .dataframe tbody tr th:only-of-type {\n",
       "        vertical-align: middle;\n",
       "    }\n",
       "\n",
       "    .dataframe tbody tr th {\n",
       "        vertical-align: top;\n",
       "    }\n",
       "\n",
       "    .dataframe thead th {\n",
       "        text-align: right;\n",
       "    }\n",
       "</style>\n",
       "<table border=\"1\" class=\"dataframe\">\n",
       "  <thead>\n",
       "    <tr style=\"text-align: right;\">\n",
       "      <th></th>\n",
       "      <th>FacturaId</th>\n",
       "      <th>Fecha</th>\n",
       "    </tr>\n",
       "  </thead>\n",
       "  <tbody>\n",
       "    <tr>\n",
       "      <th>0</th>\n",
       "      <td>54719</td>\n",
       "      <td>2023-07-03 09:14:00</td>\n",
       "    </tr>\n",
       "    <tr>\n",
       "      <th>1</th>\n",
       "      <td>54720</td>\n",
       "      <td>2023-07-03 09:17:00</td>\n",
       "    </tr>\n",
       "    <tr>\n",
       "      <th>2</th>\n",
       "      <td>54721</td>\n",
       "      <td>2023-07-03 09:19:00</td>\n",
       "    </tr>\n",
       "    <tr>\n",
       "      <th>3</th>\n",
       "      <td>54722</td>\n",
       "      <td>2023-07-03 09:21:00</td>\n",
       "    </tr>\n",
       "    <tr>\n",
       "      <th>4</th>\n",
       "      <td>54723</td>\n",
       "      <td>2023-07-03 09:24:00</td>\n",
       "    </tr>\n",
       "    <tr>\n",
       "      <th>...</th>\n",
       "      <td>...</td>\n",
       "      <td>...</td>\n",
       "    </tr>\n",
       "    <tr>\n",
       "      <th>121</th>\n",
       "      <td>54840</td>\n",
       "      <td>2023-07-03 15:16:00</td>\n",
       "    </tr>\n",
       "    <tr>\n",
       "      <th>122</th>\n",
       "      <td>54841</td>\n",
       "      <td>2023-07-03 15:19:00</td>\n",
       "    </tr>\n",
       "    <tr>\n",
       "      <th>123</th>\n",
       "      <td>54842</td>\n",
       "      <td>2023-07-03 15:22:00</td>\n",
       "    </tr>\n",
       "    <tr>\n",
       "      <th>124</th>\n",
       "      <td>54843</td>\n",
       "      <td>2023-07-03 15:23:00</td>\n",
       "    </tr>\n",
       "    <tr>\n",
       "      <th>125</th>\n",
       "      <td>54844</td>\n",
       "      <td>2023-07-03 15:24:00</td>\n",
       "    </tr>\n",
       "  </tbody>\n",
       "</table>\n",
       "<p>126 rows × 2 columns</p>\n",
       "</div>"
      ],
      "text/plain": [
       "     FacturaId               Fecha\n",
       "0        54719 2023-07-03 09:14:00\n",
       "1        54720 2023-07-03 09:17:00\n",
       "2        54721 2023-07-03 09:19:00\n",
       "3        54722 2023-07-03 09:21:00\n",
       "4        54723 2023-07-03 09:24:00\n",
       "..         ...                 ...\n",
       "121      54840 2023-07-03 15:16:00\n",
       "122      54841 2023-07-03 15:19:00\n",
       "123      54842 2023-07-03 15:22:00\n",
       "124      54843 2023-07-03 15:23:00\n",
       "125      54844 2023-07-03 15:24:00\n",
       "\n",
       "[126 rows x 2 columns]"
      ]
     },
     "execution_count": 6,
     "metadata": {},
     "output_type": "execute_result"
    }
   ],
   "source": [
    "# Cambiar la fecha y hora sumando un offset de tiempo\n",
    "df['Fecha'] = df['Fecha'] + pd.DateOffset(days=3)\n",
    "df"
   ]
  },
  {
   "cell_type": "code",
   "execution_count": 8,
   "metadata": {},
   "outputs": [],
   "source": [
    "hora_objetivo_inicio = datetime.strptime('07:00:00', '%H:%M:%S').time()\n",
    "hora_objetivo_fin = datetime.strptime('09:00:00', '%H:%M:%S').time()"
   ]
  },
  {
   "cell_type": "code",
   "execution_count": 9,
   "metadata": {},
   "outputs": [],
   "source": [
    "def generar_fechas():\n",
    "    fecha_actual = datetime.combine(datetime.strptime('2023-07-03', '%Y-%m-%d').date(), hora_objetivo_inicio)\n",
    "\n",
    "    fechas = []\n",
    "    for _ in range(126):\n",
    "        fechas.append(fecha_actual)\n",
    "        fecha_actual += timedelta(minutes=120/126)\n",
    "\n",
    "    return fechas\n",
    "\n",
    "# Obtener las fechas generadas\n",
    "fechas_generadas = generar_fechas()\n",
    "\n",
    "# Agregar las fechas generadas a la columna 'fecha' del DataFrame\n",
    "df['Fecha'] = fechas_generadas"
   ]
  },
  {
   "cell_type": "code",
   "execution_count": 11,
   "metadata": {},
   "outputs": [
    {
     "data": {
      "text/html": [
       "<div>\n",
       "<style scoped>\n",
       "    .dataframe tbody tr th:only-of-type {\n",
       "        vertical-align: middle;\n",
       "    }\n",
       "\n",
       "    .dataframe tbody tr th {\n",
       "        vertical-align: top;\n",
       "    }\n",
       "\n",
       "    .dataframe thead th {\n",
       "        text-align: right;\n",
       "    }\n",
       "</style>\n",
       "<table border=\"1\" class=\"dataframe\">\n",
       "  <thead>\n",
       "    <tr style=\"text-align: right;\">\n",
       "      <th></th>\n",
       "      <th>FacturaId</th>\n",
       "      <th>Fecha</th>\n",
       "    </tr>\n",
       "  </thead>\n",
       "  <tbody>\n",
       "    <tr>\n",
       "      <th>0</th>\n",
       "      <td>54719</td>\n",
       "      <td>2023-07-03 07:00:00.000000</td>\n",
       "    </tr>\n",
       "    <tr>\n",
       "      <th>1</th>\n",
       "      <td>54720</td>\n",
       "      <td>2023-07-03 07:00:57.142857</td>\n",
       "    </tr>\n",
       "    <tr>\n",
       "      <th>2</th>\n",
       "      <td>54721</td>\n",
       "      <td>2023-07-03 07:01:54.285714</td>\n",
       "    </tr>\n",
       "  </tbody>\n",
       "</table>\n",
       "</div>"
      ],
      "text/plain": [
       "   FacturaId                      Fecha\n",
       "0      54719 2023-07-03 07:00:00.000000\n",
       "1      54720 2023-07-03 07:00:57.142857\n",
       "2      54721 2023-07-03 07:01:54.285714"
      ]
     },
     "execution_count": 11,
     "metadata": {},
     "output_type": "execute_result"
    }
   ],
   "source": [
    "df.head(3)"
   ]
  },
  {
   "cell_type": "code",
   "execution_count": 13,
   "metadata": {},
   "outputs": [
    {
     "data": {
      "text/html": [
       "<div>\n",
       "<style scoped>\n",
       "    .dataframe tbody tr th:only-of-type {\n",
       "        vertical-align: middle;\n",
       "    }\n",
       "\n",
       "    .dataframe tbody tr th {\n",
       "        vertical-align: top;\n",
       "    }\n",
       "\n",
       "    .dataframe thead th {\n",
       "        text-align: right;\n",
       "    }\n",
       "</style>\n",
       "<table border=\"1\" class=\"dataframe\">\n",
       "  <thead>\n",
       "    <tr style=\"text-align: right;\">\n",
       "      <th></th>\n",
       "      <th>FacturaId</th>\n",
       "      <th>Fecha</th>\n",
       "      <th>fecha_formateada</th>\n",
       "    </tr>\n",
       "  </thead>\n",
       "  <tbody>\n",
       "    <tr>\n",
       "      <th>0</th>\n",
       "      <td>54719</td>\n",
       "      <td>2023-07-03 07:00:00.000000</td>\n",
       "      <td>2023-07-03 07:00:00</td>\n",
       "    </tr>\n",
       "    <tr>\n",
       "      <th>1</th>\n",
       "      <td>54720</td>\n",
       "      <td>2023-07-03 07:00:57.142857</td>\n",
       "      <td>2023-07-03 07:00:57</td>\n",
       "    </tr>\n",
       "    <tr>\n",
       "      <th>2</th>\n",
       "      <td>54721</td>\n",
       "      <td>2023-07-03 07:01:54.285714</td>\n",
       "      <td>2023-07-03 07:01:54</td>\n",
       "    </tr>\n",
       "  </tbody>\n",
       "</table>\n",
       "</div>"
      ],
      "text/plain": [
       "   FacturaId                      Fecha     fecha_formateada\n",
       "0      54719 2023-07-03 07:00:00.000000  2023-07-03 07:00:00\n",
       "1      54720 2023-07-03 07:00:57.142857  2023-07-03 07:00:57\n",
       "2      54721 2023-07-03 07:01:54.285714  2023-07-03 07:01:54"
      ]
     },
     "execution_count": 13,
     "metadata": {},
     "output_type": "execute_result"
    }
   ],
   "source": [
    "df['fecha_formateada'] = df['Fecha'].apply(lambda x: x.strftime('%Y-%m-%d %H:%M:%S'))\n",
    "df.head(3)"
   ]
  },
  {
   "attachments": {},
   "cell_type": "markdown",
   "metadata": {},
   "source": [
    "# Crear Query"
   ]
  },
  {
   "cell_type": "code",
   "execution_count": 116,
   "metadata": {},
   "outputs": [],
   "source": [
    "def query (df:pd.DataFrame, fileName:str, tableBDD:str, columnUD:str, columnDF:str, WhereBDD:str, WhereDF:str)->None:    \n",
    "    lista = []\n",
    "    a = \"\"\"\n",
    "DECLARE\n",
    "    @ErrorMessage NVARCHAR(4000),\n",
    "    @ErrorSeverity INT,\n",
    "    @ErrorState INT\"\"\"\n",
    "   \n",
    "    lista.append(a)\n",
    "    for index, row in df.iterrows():\n",
    "        a = f\"\"\"\n",
    "BEGIN TRY\n",
    "    BEGIN TRANSACTION\n",
    "        UPDATE {tableBDD}\n",
    "        SET {columnUD} = '{row[f'{columnDF}']}'\n",
    "        WHERE {WhereBDD} = {row[f'{WhereDF}']}\n",
    "    COMMIT TRANSACTION;\n",
    "END TRY\n",
    "BEGIN CATCH\n",
    "    SELECT \n",
    "        @ErrorMessage = ERROR_MESSAGE(),\n",
    "        @ErrorSeverity = ERROR_SEVERITY(),\n",
    "        @ErrorState = ERROR_STATE();\n",
    "    RAISERROR (@ErrorMessage, @ErrorSeverity, @ErrorState);\n",
    "    ROLLBACK TRANSACTION;\n",
    "END CATCH\"\"\"\n",
    "        lista.append(a)\n",
    "\n",
    "    nombre_archivo = f'{fileName}.sql'\n",
    "    with open(nombre_archivo, 'w') as archivo:\n",
    "        for sublist in lista:\n",
    "            fila = ''.join(map(str, sublist))\n",
    "            archivo.write(fila + '\\n')"
   ]
  },
  {
   "attachments": {},
   "cell_type": "markdown",
   "metadata": {},
   "source": [
    "ejecucion"
   ]
  },
  {
   "cell_type": "code",
   "execution_count": 117,
   "metadata": {},
   "outputs": [],
   "source": [
    "# query (df, fileName, tableBDD, columnUD, columnDF, WhereBDD, WhereDF)\n",
    "query(df,'prueba','Sivev.Facturas.Facturas','Fecha','fecha_formateada','FacturaId','FacturaId')"
   ]
  }
 ],
 "metadata": {
  "kernelspec": {
   "display_name": "Python 3",
   "language": "python",
   "name": "python3"
  },
  "language_info": {
   "codemirror_mode": {
    "name": "ipython",
    "version": 3
   },
   "file_extension": ".py",
   "mimetype": "text/x-python",
   "name": "python",
   "nbconvert_exporter": "python",
   "pygments_lexer": "ipython3",
   "version": "3.11.0"
  },
  "orig_nbformat": 4
 },
 "nbformat": 4,
 "nbformat_minor": 2
}
