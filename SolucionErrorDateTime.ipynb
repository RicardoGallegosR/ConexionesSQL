{
 "cells": [
  {
   "attachments": {},
   "cell_type": "markdown",
   "metadata": {},
   "source": [
    "# Librerías "
   ]
  },
  {
   "cell_type": "code",
   "execution_count": 16,
   "metadata": {},
   "outputs": [],
   "source": [
    "import pandas as pd\n",
    "pd.options.display.max_columns = None\n",
    "import os\n",
    "from simpledbf import Dbf5\n",
    "import pyodbc\n",
    "from datetime import datetime as dt"
   ]
  },
  {
   "attachments": {},
   "cell_type": "markdown",
   "metadata": {},
   "source": [
    "# Lectura de Archivos DBFs"
   ]
  },
  {
   "cell_type": "code",
   "execution_count": 17,
   "metadata": {},
   "outputs": [
    {
     "data": {
      "text/plain": [
       "['marca.dbf', 'm_diesel.dbf', 'subdiesl.dbf', 'submarca.dbf', 't_maestr.dbf']"
      ]
     },
     "execution_count": 17,
     "metadata": {},
     "output_type": "execute_result"
    }
   ],
   "source": [
    "Path_ = r'2022-2205 - prueba\\\\FABRICANTES\\\\'\n",
    "contenido = os.listdir(Path_)\n",
    "\n",
    "file = []\n",
    "for fichero in contenido:\n",
    "    if os.path.isfile(os.path.join(Path_, fichero)) and fichero.endswith('.dbf'):\n",
    "        file.append(fichero)\n",
    "file"
   ]
  },
  {
   "cell_type": "code",
   "execution_count": 18,
   "metadata": {},
   "outputs": [
    {
     "data": {
      "text/html": [
       "<div>\n",
       "<style scoped>\n",
       "    .dataframe tbody tr th:only-of-type {\n",
       "        vertical-align: middle;\n",
       "    }\n",
       "\n",
       "    .dataframe tbody tr th {\n",
       "        vertical-align: top;\n",
       "    }\n",
       "\n",
       "    .dataframe thead th {\n",
       "        text-align: right;\n",
       "    }\n",
       "</style>\n",
       "<table border=\"1\" class=\"dataframe\">\n",
       "  <thead>\n",
       "    <tr style=\"text-align: right;\">\n",
       "      <th></th>\n",
       "      <th>ID</th>\n",
       "      <th>MARCA</th>\n",
       "      <th>IDSUBMARCA</th>\n",
       "      <th>MOTOR_DSL</th>\n",
       "      <th>COMB_ORIG</th>\n",
       "      <th>CARROCERIA</th>\n",
       "      <th>ALIM_COMB</th>\n",
       "      <th>CILINDROS</th>\n",
       "      <th>CILINDRADA</th>\n",
       "      <th>PBV</th>\n",
       "      <th>PBV_EQUIV</th>\n",
       "      <th>PBV_ASM</th>\n",
       "      <th>CONV_CATAL</th>\n",
       "      <th>OBD</th>\n",
       "      <th>C_ABS</th>\n",
       "      <th>T_TRACC</th>\n",
       "      <th>C_TRACC</th>\n",
       "      <th>T_PRUEBA</th>\n",
       "      <th>PROTOCOLO</th>\n",
       "      <th>POTMAX_RPM</th>\n",
       "      <th>ANO_DESDE</th>\n",
       "      <th>ANO_HASTA</th>\n",
       "      <th>O2_MAX</th>\n",
       "      <th>LAMDA_MAX</th>\n",
       "      <th>POT_5024</th>\n",
       "      <th>POT_2540</th>\n",
       "      <th>DOBLECERO</th>\n",
       "      <th>CERO_GASOL</th>\n",
       "      <th>CERO_GASLP</th>\n",
       "      <th>CERO_GASNC</th>\n",
       "      <th>CERO_DSL</th>\n",
       "      <th>CHECKSUM</th>\n",
       "      <th>T_ENC</th>\n",
       "      <th>CAT_VEH</th>\n",
       "      <th>HCNM_CER</th>\n",
       "      <th>HCT_CER</th>\n",
       "      <th>CO_CER</th>\n",
       "      <th>NO_CER</th>\n",
       "      <th>HC_EV_CER</th>\n",
       "      <th>PART_CER</th>\n",
       "      <th>PBVD</th>\n",
       "      <th>REND_C</th>\n",
       "      <th>REF_00</th>\n",
       "      <th>TIPO_CERT</th>\n",
       "      <th>F_DAT</th>\n",
       "      <th>REVISION</th>\n",
       "      <th>COMENTARIO</th>\n",
       "    </tr>\n",
       "  </thead>\n",
       "  <tbody>\n",
       "    <tr>\n",
       "      <th>0</th>\n",
       "      <td>5001.0</td>\n",
       "      <td>101.0</td>\n",
       "      <td>1.0</td>\n",
       "      <td>0.0</td>\n",
       "      <td>1.0</td>\n",
       "      <td>1.0</td>\n",
       "      <td>2.0</td>\n",
       "      <td>6.0</td>\n",
       "      <td>3500.0</td>\n",
       "      <td>1.0</td>\n",
       "      <td>1624.0</td>\n",
       "      <td>1750.0</td>\n",
       "      <td>3.0</td>\n",
       "      <td>0.0</td>\n",
       "      <td>2.0</td>\n",
       "      <td>0.0</td>\n",
       "      <td>0.0</td>\n",
       "      <td>1.0</td>\n",
       "      <td>7.0</td>\n",
       "      <td>0.0</td>\n",
       "      <td>1999.0</td>\n",
       "      <td>2007.0</td>\n",
       "      <td>0.6</td>\n",
       "      <td>1.05</td>\n",
       "      <td>12.2</td>\n",
       "      <td>7.6</td>\n",
       "      <td>0.0</td>\n",
       "      <td>1.0</td>\n",
       "      <td>1.0</td>\n",
       "      <td>1.0</td>\n",
       "      <td>0.0</td>\n",
       "      <td>350DE</td>\n",
       "      <td>0.0</td>\n",
       "      <td>0.0</td>\n",
       "      <td>0.0</td>\n",
       "      <td>0.0</td>\n",
       "      <td>0.0</td>\n",
       "      <td>0.0</td>\n",
       "      <td>0.0</td>\n",
       "      <td>0.0</td>\n",
       "      <td>0.0</td>\n",
       "      <td>0.0</td>\n",
       "      <td>0.0</td>\n",
       "      <td>0.0</td>\n",
       "      <td>0.0</td>\n",
       "      <td></td>\n",
       "      <td></td>\n",
       "    </tr>\n",
       "  </tbody>\n",
       "</table>\n",
       "</div>"
      ],
      "text/plain": [
       "       ID  MARCA IDSUBMARCA MOTOR_DSL COMB_ORIG CARROCERIA ALIM_COMB  \\\n",
       "0  5001.0  101.0        1.0       0.0       1.0        1.0       2.0   \n",
       "\n",
       "  CILINDROS CILINDRADA  PBV PBV_EQUIV PBV_ASM CONV_CATAL  OBD C_ABS T_TRACC  \\\n",
       "0       6.0     3500.0  1.0    1624.0  1750.0        3.0  0.0   2.0     0.0   \n",
       "\n",
       "  C_TRACC T_PRUEBA PROTOCOLO POTMAX_RPM ANO_DESDE ANO_HASTA  O2_MAX  \\\n",
       "0     0.0      1.0       7.0        0.0    1999.0    2007.0     0.6   \n",
       "\n",
       "   LAMDA_MAX POT_5024 POT_2540 DOBLECERO CERO_GASOL CERO_GASLP CERO_GASNC  \\\n",
       "0       1.05     12.2      7.6       0.0        1.0        1.0        1.0   \n",
       "\n",
       "  CERO_DSL CHECKSUM T_ENC CAT_VEH HCNM_CER HCT_CER CO_CER NO_CER HC_EV_CER  \\\n",
       "0      0.0    350DE   0.0     0.0      0.0     0.0    0.0    0.0       0.0   \n",
       "\n",
       "  PART_CER PBVD REND_C REF_00 TIPO_CERT F_DAT REVISION COMENTARIO  \n",
       "0      0.0  0.0    0.0    0.0       0.0   0.0                      "
      ]
     },
     "execution_count": 18,
     "metadata": {},
     "output_type": "execute_result"
    }
   ],
   "source": [
    "i = 4\n",
    "\n",
    "df = Dbf5(r'2022-2205 - prueba\\\\'+file[i],codec='iso-8859-1').to_dataframe().fillna('')\n",
    "df.head(1)"
   ]
  },
  {
   "attachments": {},
   "cell_type": "markdown",
   "metadata": {},
   "source": [
    "# Conexion"
   ]
  },
  {
   "cell_type": "code",
   "execution_count": 13,
   "metadata": {},
   "outputs": [],
   "source": [
    "server = r'Server'\n",
    "database = 'Database' \n",
    "username = 'User' \n",
    "password = 'Password' "
   ]
  },
  {
   "attachments": {},
   "cell_type": "markdown",
   "metadata": {},
   "source": [
    "## Test"
   ]
  },
  {
   "cell_type": "code",
   "execution_count": 14,
   "metadata": {},
   "outputs": [],
   "source": [
    "try:\n",
    "    cnxn = pyodbc.connect(\n",
    "        'DRIVER={ODBC Driver 18 for SQL Server};'\n",
    "        'SERVER='+server+';'\n",
    "        'DATABASE='+database+';'\n",
    "        'ENCRYPT=yes;UID='+username+';'\n",
    "        'PWD='+ password\n",
    "        )\n",
    "    cursor = cnxn.cursor()\n",
    "    cursor.close()\n",
    "except:\n",
    "    print(\"Error en conexión\")"
   ]
  },
  {
   "attachments": {},
   "cell_type": "markdown",
   "metadata": {},
   "source": [
    "# Corrección de Insertar Fechas a SQL Server"
   ]
  },
  {
   "cell_type": "code",
   "execution_count": 20,
   "metadata": {},
   "outputs": [],
   "source": [
    "list_ = []\n",
    "for count,x in enumerate(df['REVISION']):\n",
    "    if x == '':\n",
    "        list_.append(x)\n",
    "    elif len(x) == 8:        \n",
    "         list_.append(pd.to_datetime(dt.strftime(dt.strptime(x, '%d/%m/%y'),'%Y, %m, %d')))\n",
    "    elif len(x) == 10:\n",
    "         list_.append(pd.to_datetime(dt.strftime(dt.strptime(x, '%d/%m/%Y'),'%Y, %m, %d')))\n",
    "    "
   ]
  },
  {
   "attachments": {},
   "cell_type": "markdown",
   "metadata": {},
   "source": [
    "Con esto ya se puede ejecutar un store para insertar las fechas"
   ]
  }
 ],
 "metadata": {
  "kernelspec": {
   "display_name": "Python 3",
   "language": "python",
   "name": "python3"
  },
  "language_info": {
   "codemirror_mode": {
    "name": "ipython",
    "version": 3
   },
   "file_extension": ".py",
   "mimetype": "text/x-python",
   "name": "python",
   "nbconvert_exporter": "python",
   "pygments_lexer": "ipython3",
   "version": "3.11.0 (main, Oct 24 2022, 18:26:48) [MSC v.1933 64 bit (AMD64)]"
  },
  "orig_nbformat": 4,
  "vscode": {
   "interpreter": {
    "hash": "51d2004ef466e78e645e7e2ba8f0d40c9741a65f03ae3d118a7e2d6ea21c00e2"
   }
  }
 },
 "nbformat": 4,
 "nbformat_minor": 2
}
